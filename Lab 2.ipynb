{
 "cells": [
  {
   "cell_type": "code",
   "execution_count": null,
   "id": "eedd24e9-fc13-4720-bc04-172a3ffc087f",
   "metadata": {
    "execution": {
     "execution_failed": "2025-10-27T04:14:43.441Z"
    }
   },
   "outputs": [],
   "source": [
    "# typical\n",
    "import os\n",
    "import re\n",
    "import pandas as pd\n",
    "from collections import Counter\n",
    "import matplotlib.pyplot as plt\n",
    "\n",
    "# pyspark\n",
    "from pyspark.sql import SparkSession\n",
    "from pyspark.sql.functions import explode, desc\n",
    "from pyspark.sql.functions import col, lag\n",
    "from pyspark.sql.window import Window"
   ]
  },
  {
   "cell_type": "code",
   "execution_count": 2,
   "id": "038a4683-177d-4b7f-a62c-227fbe46898f",
   "metadata": {
    "execution": {
     "iopub.execute_input": "2025-10-27T04:06:04.262644Z",
     "iopub.status.busy": "2025-10-27T04:06:04.262431Z",
     "iopub.status.idle": "2025-10-27T04:06:10.442998Z",
     "shell.execute_reply": "2025-10-27T04:06:10.439938Z",
     "shell.execute_reply.started": "2025-10-27T04:06:04.262622Z"
    }
   },
   "outputs": [],
   "source": [
    "spark = (SparkSession\n",
    "     .builder\n",
    "     .master('local[*]')\n",
    "     .getOrCreate())"
   ]
  },
  {
   "cell_type": "markdown",
   "id": "f4090383-944c-46f3-939e-12718248a22b",
   "metadata": {},
   "source": [
    "Note: Check the `lab2.py` file for proof of concept."
   ]
  },
  {
   "cell_type": "markdown",
   "id": "dac791f0-0ebc-411e-8840-09dcf7a6cb2f",
   "metadata": {},
   "source": [
    "# Binance"
   ]
  },
  {
   "cell_type": "markdown",
   "id": "762834be-bcc0-416f-9f3e-2f34c2727778",
   "metadata": {},
   "source": [
    "## EDA: Schema"
   ]
  },
  {
   "cell_type": "code",
   "execution_count": 3,
   "id": "75d0a38c-6b07-413e-a290-f9828703872b",
   "metadata": {
    "execution": {
     "iopub.execute_input": "2025-10-27T04:06:10.450597Z",
     "iopub.status.busy": "2025-10-27T04:06:10.449885Z",
     "iopub.status.idle": "2025-10-27T04:06:18.547982Z",
     "shell.execute_reply": "2025-10-27T04:06:18.545947Z",
     "shell.execute_reply.started": "2025-10-27T04:06:10.450514Z"
    }
   },
   "outputs": [],
   "source": [
    "directory = '/mnt/data/public/binance-full-history'\n",
    "binance = spark.read.parquet(directory)"
   ]
  },
  {
   "cell_type": "code",
   "execution_count": 4,
   "id": "0f2a34ff-1b5f-4f72-a8f3-89612565b268",
   "metadata": {
    "execution": {
     "iopub.execute_input": "2025-10-27T04:06:18.554620Z",
     "iopub.status.busy": "2025-10-27T04:06:18.553991Z",
     "iopub.status.idle": "2025-10-27T04:06:18.582593Z",
     "shell.execute_reply": "2025-10-27T04:06:18.581104Z",
     "shell.execute_reply.started": "2025-10-27T04:06:18.554564Z"
    }
   },
   "outputs": [
    {
     "name": "stdout",
     "output_type": "stream",
     "text": [
      "root\n",
      " |-- open: float (nullable = true)\n",
      " |-- high: float (nullable = true)\n",
      " |-- low: float (nullable = true)\n",
      " |-- close: float (nullable = true)\n",
      " |-- volume: float (nullable = true)\n",
      " |-- quote_asset_volume: float (nullable = true)\n",
      " |-- number_of_trades: integer (nullable = true)\n",
      " |-- taker_buy_base_asset_volume: float (nullable = true)\n",
      " |-- taker_buy_quote_asset_volume: float (nullable = true)\n",
      " |-- open_time: timestamp_ntz (nullable = true)\n",
      "\n"
     ]
    }
   ],
   "source": [
    "binance.printSchema()"
   ]
  },
  {
   "cell_type": "code",
   "execution_count": 5,
   "id": "4d96221c-01ae-4c1f-a715-c6b5227cc727",
   "metadata": {
    "execution": {
     "iopub.execute_input": "2025-10-27T04:06:18.583780Z",
     "iopub.status.busy": "2025-10-27T04:06:18.583536Z",
     "iopub.status.idle": "2025-10-27T04:06:20.721255Z",
     "shell.execute_reply": "2025-10-27T04:06:20.699309Z",
     "shell.execute_reply.started": "2025-10-27T04:06:18.583758Z"
    }
   },
   "outputs": [
    {
     "name": "stdout",
     "output_type": "stream",
     "text": [
      "+-------+-------+-------+-------+--------+------------------+----------------+---------------------------+----------------------------+-------------------+\n",
      "|   open|   high|    low|  close|  volume|quote_asset_volume|number_of_trades|taker_buy_base_asset_volume|taker_buy_quote_asset_volume|          open_time|\n",
      "+-------+-------+-------+-------+--------+------------------+----------------+---------------------------+----------------------------+-------------------+\n",
      "|4261.48|4261.48|4261.48|4261.48|1.775183|         7564.9067|               3|                   0.075183|                   320.39084|2017-08-17 04:00:00|\n",
      "|4261.48|4261.48|4261.48|4261.48|     0.0|               0.0|               0|                        0.0|                         0.0|2017-08-17 04:01:00|\n",
      "|4280.56|4280.56|4280.56|4280.56|0.261074|          1117.543|               2|                   0.261074|                    1117.543|2017-08-17 04:02:00|\n",
      "|4261.48|4261.48|4261.48|4261.48|0.012008|         51.171852|               3|                   0.012008|                   51.171852|2017-08-17 04:03:00|\n",
      "|4261.48|4261.48|4261.48|4261.48|0.140796|          599.9993|               1|                   0.140796|                    599.9993|2017-08-17 04:04:00|\n",
      "+-------+-------+-------+-------+--------+------------------+----------------+---------------------------+----------------------------+-------------------+\n",
      "only showing top 5 rows\n",
      "\n"
     ]
    }
   ],
   "source": [
    "binance.show(5)"
   ]
  },
  {
   "cell_type": "code",
   "execution_count": 6,
   "id": "de1fa9a0-b8d3-4954-bb9e-50ae299b4fb0",
   "metadata": {
    "execution": {
     "iopub.execute_input": "2025-10-27T04:06:20.724239Z",
     "iopub.status.busy": "2025-10-27T04:06:20.723417Z",
     "iopub.status.idle": "2025-10-27T04:06:20.749347Z",
     "shell.execute_reply": "2025-10-27T04:06:20.747348Z",
     "shell.execute_reply.started": "2025-10-27T04:06:20.724150Z"
    }
   },
   "outputs": [
    {
     "data": {
      "text/plain": [
       "StructType([StructField('open', FloatType(), True), StructField('high', FloatType(), True), StructField('low', FloatType(), True), StructField('close', FloatType(), True), StructField('volume', FloatType(), True), StructField('quote_asset_volume', FloatType(), True), StructField('number_of_trades', IntegerType(), True), StructField('taker_buy_base_asset_volume', FloatType(), True), StructField('taker_buy_quote_asset_volume', FloatType(), True), StructField('open_time', TimestampNTZType(), True)])"
      ]
     },
     "execution_count": 6,
     "metadata": {},
     "output_type": "execute_result"
    }
   ],
   "source": [
    "binance.schema"
   ]
  },
  {
   "cell_type": "markdown",
   "id": "80b97d40-680a-4866-ad8a-d9b694de891e",
   "metadata": {},
   "source": [
    "## EDA: Individual data files"
   ]
  },
  {
   "cell_type": "code",
   "execution_count": 7,
   "id": "a0e9f3ab-c352-42d3-8bb3-feb0a594f57f",
   "metadata": {
    "execution": {
     "iopub.execute_input": "2025-10-27T04:06:20.751242Z",
     "iopub.status.busy": "2025-10-27T04:06:20.750644Z",
     "iopub.status.idle": "2025-10-27T04:06:20.765991Z",
     "shell.execute_reply": "2025-10-27T04:06:20.764265Z",
     "shell.execute_reply.started": "2025-10-27T04:06:20.751188Z"
    }
   },
   "outputs": [
    {
     "name": "stdout",
     "output_type": "stream",
     "text": [
      "USDT: 272\n",
      "BUSD: 152\n",
      "BNB: 82\n",
      "ETH: 113\n",
      "BTC: 245\n",
      "USDC: 14\n",
      "BIDR: 9\n",
      "TRY: 24\n",
      "TUSD: 10\n",
      "NGN: 2\n",
      "RUB: 7\n",
      "EUR: 26\n",
      "BRL: 14\n",
      "PAX: 5\n",
      "TRX: 2\n",
      "DAI: 5\n",
      "GBP: 7\n",
      "IDRT: 2\n",
      "AUD: 6\n",
      "UAH: 2\n",
      "XRP: 1\n"
     ]
    }
   ],
   "source": [
    "directory = '/mnt/data/public/binance-full-history'\n",
    "files = [f for f in os.listdir(directory) if f.endswith('.parquet')]\n",
    "methods = [re.split(r'-', f.replace('.parquet', ''), 1)[1] for f in files if '-' in f]\n",
    "\n",
    "# Count each method\n",
    "method_counts = Counter(methods)\n",
    "for method, count in method_counts.items():\n",
    "    print(f\"{method}: {count}\")"
   ]
  },
  {
   "cell_type": "code",
   "execution_count": 11,
   "id": "7f9e2d0f-dd4d-4ab3-acda-eafaac2c4176",
   "metadata": {
    "execution": {
     "iopub.execute_input": "2025-10-27T04:09:22.163617Z",
     "iopub.status.busy": "2025-10-27T04:09:22.162936Z",
     "iopub.status.idle": "2025-10-27T04:09:22.635661Z",
     "shell.execute_reply": "2025-10-27T04:09:22.633190Z",
     "shell.execute_reply.started": "2025-10-27T04:09:22.163560Z"
    }
   },
   "outputs": [
    {
     "name": "stdout",
     "output_type": "stream",
     "text": [
      "Total size of 'TRY' files: 0.63 GB\n",
      "Total size of 'NGN' files: 0.05 GB\n",
      "Total size of 'RUB' files: 0.23 GB\n",
      "Total size of 'EUR' files: 0.73 GB\n",
      "Total size of 'BRL' files: 0.35 GB\n",
      "Total size of 'GBP' files: 0.26 GB\n",
      "Total size of 'AUD' files: 0.31 GB\n",
      "Total size of 'UAH' files: 0.06 GB\n"
     ]
    }
   ],
   "source": [
    "path = \"/mnt/data/public/binance-full-history\"\n",
    "filetypes = ['-USDT', '-BUSD', '-BNB', '-ETH']\n",
    "filetypes = ['BTC', 'ETH', 'BNB', 'TRX', 'XRP'] # cryptocurrency\n",
    "filetypes = ['USDT', 'BUSD', 'USDC', 'TUSD', 'PAX', 'DAI', 'BIDR'] # stablecoin\n",
    "filetypes = ['TRY', 'NGN', 'RUB', 'EUR', 'BRL', 'GBP', 'AUD', 'UAH'] # fiatbacked\n",
    "\n",
    "# Dictionary to store total size per filetype\n",
    "sizes = {ftype: 0 for ftype in filetypes}\n",
    "\n",
    "for dirpath, dirnames, filenames in os.walk(path):\n",
    "    for f in filenames:\n",
    "        for filetype in filetypes:\n",
    "            if filetype in f and f.endswith('.parquet'):\n",
    "                fp = os.path.join(dirpath, f)\n",
    "                sizes[filetype] += os.path.getsize(fp)\n",
    "\n",
    "# Print sizes in GB\n",
    "for filetype, total_size in sizes.items():\n",
    "    size_gb = total_size / (1024**3)\n",
    "    print(f\"Total size of '{filetype}' files: {size_gb:.2f} GB\")"
   ]
  },
  {
   "cell_type": "markdown",
   "id": "97797cc6-c54c-413d-9df1-4a8d51d377c1",
   "metadata": {},
   "source": [
    "### Comparing the three types"
   ]
  },
  {
   "cell_type": "code",
   "execution_count": null,
   "id": "d0c433c2-dae4-42af-91fc-8e05b4c2935f",
   "metadata": {
    "execution": {
     "execution_failed": "2025-10-27T04:14:43.441Z"
    }
   },
   "outputs": [],
   "source": [
    "# # --- Define categories ---\n",
    "# cryptocurrency = ['BTC', 'ETH', 'BNB', 'TRX', 'XRP']\n",
    "# stablecoin = ['USDT', 'BUSD', 'USDC', 'TUSD', 'PAX', 'DAI', 'BIDR', 'IDRT']\n",
    "# fiat_backed = ['TRY', 'NGN', 'RUB', 'EUR', 'BRL', 'GBP', 'AUD', 'UAH']\n",
    "\n",
    "# spark = SparkSession.builder.master('local[*]').getOrCreate()\n",
    "# directory = '/mnt/data/public/binance-full-history'\n",
    "\n",
    "# # --- Example: pick one representative file from each category ---\n",
    "# files = {\n",
    "#     \"Cryptocurrency\": \"ETH-BTC.parquet\",\n",
    "#     \"Stablecoin\": \"BTC-USDT.parquet\",\n",
    "#     \"Fiat-backed\": \"BTC-EUR.parquet\"\n",
    "# }\n",
    "\n",
    "# results = []\n",
    "\n",
    "# for category, filename in files.items():\n",
    "#     df = spark.read.parquet(os.path.join(directory, filename))\n",
    "    \n",
    "#     # Compute returns\n",
    "#     w = Window.orderBy(\"open_time\")\n",
    "#     df = df.withColumn(\"prev_close\", lag(\"close\").over(w))\n",
    "#     df = df.withColumn(\"return\", (col(\"close\") - col(\"prev_close\")) / col(\"prev_close\"))\n",
    "#     df = df.dropna()\n",
    "    \n",
    "#     # Summarize\n",
    "#     summary = df.selectExpr(\n",
    "#         \"avg(volume) as avg_volume\",\n",
    "#         \"stddev(return) as volatility\"\n",
    "#     ).toPandas().iloc[0]\n",
    "    \n",
    "#     results.append({\"Category\": category, **summary})\n",
    "\n",
    "# # Convert to Pandas for visualization\n",
    "# summary_df = pd.DataFrame(results)\n",
    "# print(summary_df)"
   ]
  },
  {
   "cell_type": "code",
   "execution_count": null,
   "id": "74e9d222-9528-4de1-8e46-9ac33daf6d43",
   "metadata": {
    "execution": {
     "execution_failed": "2025-10-27T04:14:43.441Z"
    }
   },
   "outputs": [],
   "source": [
    "plt.figure(figsize=(6,4))\n",
    "plt.bar(summary_df[\"Category\"], summary_df[\"volatility\"], color=['orange', 'blue', 'green'])\n",
    "plt.ylabel(\"Volatility (std of returns)\")\n",
    "plt.title(\"Volatility Comparison by Asset Type\")\n",
    "plt.grid(True, linestyle='--', alpha=0.5)\n",
    "plt.tight_layout()\n",
    "plt.savefig(\"volatility_comparison.png\")\n",
    "plt.show()"
   ]
  },
  {
   "cell_type": "code",
   "execution_count": null,
   "id": "1b82ebf2-6d5a-4ed8-b2f8-525e6a4a33d7",
   "metadata": {},
   "outputs": [],
   "source": []
  }
 ],
 "metadata": {
  "kernelspec": {
   "display_name": "ml2-midterm",
   "language": "python",
   "name": "ml2-midterm"
  },
  "language_info": {
   "codemirror_mode": {
    "name": "ipython",
    "version": 3
   },
   "file_extension": ".py",
   "mimetype": "text/x-python",
   "name": "python",
   "nbconvert_exporter": "python",
   "pygments_lexer": "ipython3",
   "version": "3.12.8"
  }
 },
 "nbformat": 4,
 "nbformat_minor": 5
}
